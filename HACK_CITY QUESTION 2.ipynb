{
 "cells": [
  {
   "cell_type": "markdown",
   "id": "d05cc829",
   "metadata": {},
   "source": [
    "You are given an m x n integer grid account where accounts[i][j] is the amount of money the i​​​​​​​​​​​th​​​​ customer has in the j​​​​​​​​​​​th​​​​ bank. Return the wealth that the richest customer has.\n",
    "\n",
    " A customer's wealth is the amount of money they have in all their bank accounts. The richest customer is the customer that has the maximum wealth."
   ]
  },
  {
   "cell_type": "code",
   "execution_count": 5,
   "id": "f95bfb69",
   "metadata": {},
   "outputs": [],
   "source": [
    "accounts = [[1,2,3],[3,2,1]]"
   ]
  },
  {
   "cell_type": "code",
   "execution_count": null,
   "id": "0ce961f6",
   "metadata": {},
   "outputs": [],
   "source": [
    "accounts = [[1,2,3],[3,2,1]]\n",
    "class Solution:\n",
    "    def maximumWealth(self, accounts: List[List[int]]) -> int:\n",
    "        return max(sum(account) for account in accounts)"
   ]
  },
  {
   "cell_type": "code",
   "execution_count": null,
   "id": "8a433a51",
   "metadata": {},
   "outputs": [],
   "source": []
  },
  {
   "cell_type": "code",
   "execution_count": null,
   "id": "6efd3594",
   "metadata": {},
   "outputs": [],
   "source": []
  }
 ],
 "metadata": {
  "kernelspec": {
   "display_name": "Python 3 (ipykernel)",
   "language": "python",
   "name": "python3"
  },
  "language_info": {
   "codemirror_mode": {
    "name": "ipython",
    "version": 3
   },
   "file_extension": ".py",
   "mimetype": "text/x-python",
   "name": "python",
   "nbconvert_exporter": "python",
   "pygments_lexer": "ipython3",
   "version": "3.9.12"
  }
 },
 "nbformat": 4,
 "nbformat_minor": 5
}
